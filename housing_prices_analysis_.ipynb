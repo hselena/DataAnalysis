{
  "nbformat": 4,
  "nbformat_minor": 0,
  "metadata": {
    "colab": {
      "name": "housing_prices_analysis .ipynb",
      "provenance": [],
      "collapsed_sections": []
    },
    "kernelspec": {
      "name": "python3",
      "display_name": "Python 3"
    }
  },
  "cells": [
    {
      "cell_type": "markdown",
      "metadata": {
        "id": "EtPA6_jLg_G6"
      },
      "source": [
        "Explore the following questions. Include a hypothesis, test assumptions and provide valid findings from the data.\n",
        "\n",
        "1. Do homes with air conditioning have a higher sales price than homes without air conditioning?\n",
        "2. Do homes with a full basement have a higher sales price than homes without a full basement?\n",
        "\n",
        "*As you are conducting the analysis, consider what other variables may be accounting for any significant differences you find.*"
      ]
    },
    {
      "cell_type": "code",
      "metadata": {
        "id": "KVhWmk2fhFpR",
        "colab": {
          "base_uri": "https://localhost:8080/",
          "height": 535
        },
        "outputId": "81dc9ed3-f53e-4197-84cd-6bc7224e9de1"
      },
      "source": [
        "# Set up environment\n",
        "\n",
        "import math\n",
        "import pandas as pd\n",
        "import numpy as np\n",
        "from scipy import stats\n",
        "import matplotlib.pyplot as plt\n",
        "\n",
        "# Read in our data\n",
        "\n",
        "housing = pd.read_csv(\"https://tf-assets-prod.s3.amazonaws.com/tf-curric/data-science/homeprices.applied.econ.csv\")\n",
        "\n",
        "\n",
        "# Get to know the data a bit\n",
        "\n",
        "housing.info()\n",
        "\n",
        "housing.head()"
      ],
      "execution_count": null,
      "outputs": [
        {
          "output_type": "stream",
          "text": [
            "<class 'pandas.core.frame.DataFrame'>\n",
            "RangeIndex: 546 entries, 0 to 545\n",
            "Data columns (total 12 columns):\n",
            " #   Column    Non-Null Count  Dtype  \n",
            "---  ------    --------------  -----  \n",
            " 0   price     546 non-null    float64\n",
            " 1   lotsize   546 non-null    int64  \n",
            " 2   bedrooms  546 non-null    int64  \n",
            " 3   bathrms   546 non-null    int64  \n",
            " 4   stories   546 non-null    int64  \n",
            " 5   driveway  546 non-null    object \n",
            " 6   recroom   546 non-null    object \n",
            " 7   fullbase  546 non-null    object \n",
            " 8   gashw     546 non-null    object \n",
            " 9   airco     546 non-null    object \n",
            " 10  garagepl  546 non-null    int64  \n",
            " 11  prefarea  546 non-null    object \n",
            "dtypes: float64(1), int64(5), object(6)\n",
            "memory usage: 51.3+ KB\n"
          ],
          "name": "stdout"
        },
        {
          "output_type": "execute_result",
          "data": {
            "text/html": [
              "<div>\n",
              "<style scoped>\n",
              "    .dataframe tbody tr th:only-of-type {\n",
              "        vertical-align: middle;\n",
              "    }\n",
              "\n",
              "    .dataframe tbody tr th {\n",
              "        vertical-align: top;\n",
              "    }\n",
              "\n",
              "    .dataframe thead th {\n",
              "        text-align: right;\n",
              "    }\n",
              "</style>\n",
              "<table border=\"1\" class=\"dataframe\">\n",
              "  <thead>\n",
              "    <tr style=\"text-align: right;\">\n",
              "      <th></th>\n",
              "      <th>price</th>\n",
              "      <th>lotsize</th>\n",
              "      <th>bedrooms</th>\n",
              "      <th>bathrms</th>\n",
              "      <th>stories</th>\n",
              "      <th>driveway</th>\n",
              "      <th>recroom</th>\n",
              "      <th>fullbase</th>\n",
              "      <th>gashw</th>\n",
              "      <th>airco</th>\n",
              "      <th>garagepl</th>\n",
              "      <th>prefarea</th>\n",
              "    </tr>\n",
              "  </thead>\n",
              "  <tbody>\n",
              "    <tr>\n",
              "      <th>0</th>\n",
              "      <td>42000.0</td>\n",
              "      <td>5850</td>\n",
              "      <td>3</td>\n",
              "      <td>1</td>\n",
              "      <td>2</td>\n",
              "      <td>yes</td>\n",
              "      <td>no</td>\n",
              "      <td>yes</td>\n",
              "      <td>no</td>\n",
              "      <td>no</td>\n",
              "      <td>1</td>\n",
              "      <td>no</td>\n",
              "    </tr>\n",
              "    <tr>\n",
              "      <th>1</th>\n",
              "      <td>66000.0</td>\n",
              "      <td>3880</td>\n",
              "      <td>3</td>\n",
              "      <td>2</td>\n",
              "      <td>2</td>\n",
              "      <td>yes</td>\n",
              "      <td>no</td>\n",
              "      <td>yes</td>\n",
              "      <td>no</td>\n",
              "      <td>no</td>\n",
              "      <td>2</td>\n",
              "      <td>no</td>\n",
              "    </tr>\n",
              "    <tr>\n",
              "      <th>2</th>\n",
              "      <td>83800.0</td>\n",
              "      <td>4800</td>\n",
              "      <td>3</td>\n",
              "      <td>1</td>\n",
              "      <td>1</td>\n",
              "      <td>yes</td>\n",
              "      <td>yes</td>\n",
              "      <td>yes</td>\n",
              "      <td>no</td>\n",
              "      <td>no</td>\n",
              "      <td>0</td>\n",
              "      <td>no</td>\n",
              "    </tr>\n",
              "    <tr>\n",
              "      <th>3</th>\n",
              "      <td>45000.0</td>\n",
              "      <td>3986</td>\n",
              "      <td>2</td>\n",
              "      <td>2</td>\n",
              "      <td>1</td>\n",
              "      <td>no</td>\n",
              "      <td>yes</td>\n",
              "      <td>yes</td>\n",
              "      <td>no</td>\n",
              "      <td>no</td>\n",
              "      <td>1</td>\n",
              "      <td>no</td>\n",
              "    </tr>\n",
              "    <tr>\n",
              "      <th>4</th>\n",
              "      <td>65900.0</td>\n",
              "      <td>4510</td>\n",
              "      <td>4</td>\n",
              "      <td>2</td>\n",
              "      <td>2</td>\n",
              "      <td>yes</td>\n",
              "      <td>no</td>\n",
              "      <td>yes</td>\n",
              "      <td>no</td>\n",
              "      <td>no</td>\n",
              "      <td>0</td>\n",
              "      <td>no</td>\n",
              "    </tr>\n",
              "  </tbody>\n",
              "</table>\n",
              "</div>"
            ],
            "text/plain": [
              "     price  lotsize  bedrooms  bathrms  ...  gashw airco garagepl prefarea\n",
              "0  42000.0     5850         3        1  ...     no    no        1       no\n",
              "1  66000.0     3880         3        2  ...     no    no        2       no\n",
              "2  83800.0     4800         3        1  ...     no    no        0       no\n",
              "3  45000.0     3986         2        2  ...     no    no        1       no\n",
              "4  65900.0     4510         4        2  ...     no    no        0       no\n",
              "\n",
              "[5 rows x 12 columns]"
            ]
          },
          "metadata": {
            "tags": []
          },
          "execution_count": 3
        }
      ]
    },
    {
      "cell_type": "code",
      "metadata": {
        "id": "FqXb79ghkCDn",
        "colab": {
          "base_uri": "https://localhost:8080/",
          "height": 692
        },
        "outputId": "3706b873-be1d-4792-c809-9ebc9b934b2d"
      },
      "source": [
        "# Split up our dataset to two indep. variables to answer first question on air conditioning\n",
        "ac_yes = housing[(housing['airco'] == 'yes')]\n",
        "ac_yes.info()\n",
        "\n",
        "ac_no = housing[(housing['airco'] == 'no')]\n",
        "ac_no.info()"
      ],
      "execution_count": null,
      "outputs": [
        {
          "output_type": "stream",
          "text": [
            "<class 'pandas.core.frame.DataFrame'>\n",
            "Int64Index: 173 entries, 373 to 545\n",
            "Data columns (total 12 columns):\n",
            " #   Column    Non-Null Count  Dtype  \n",
            "---  ------    --------------  -----  \n",
            " 0   price     173 non-null    float64\n",
            " 1   lotsize   173 non-null    int64  \n",
            " 2   bedrooms  173 non-null    int64  \n",
            " 3   bathrms   173 non-null    int64  \n",
            " 4   stories   173 non-null    int64  \n",
            " 5   driveway  173 non-null    object \n",
            " 6   recroom   173 non-null    object \n",
            " 7   fullbase  173 non-null    object \n",
            " 8   gashw     173 non-null    object \n",
            " 9   airco     173 non-null    object \n",
            " 10  garagepl  173 non-null    int64  \n",
            " 11  prefarea  173 non-null    object \n",
            "dtypes: float64(1), int64(5), object(6)\n",
            "memory usage: 17.6+ KB\n",
            "<class 'pandas.core.frame.DataFrame'>\n",
            "Int64Index: 373 entries, 0 to 372\n",
            "Data columns (total 12 columns):\n",
            " #   Column    Non-Null Count  Dtype  \n",
            "---  ------    --------------  -----  \n",
            " 0   price     373 non-null    float64\n",
            " 1   lotsize   373 non-null    int64  \n",
            " 2   bedrooms  373 non-null    int64  \n",
            " 3   bathrms   373 non-null    int64  \n",
            " 4   stories   373 non-null    int64  \n",
            " 5   driveway  373 non-null    object \n",
            " 6   recroom   373 non-null    object \n",
            " 7   fullbase  373 non-null    object \n",
            " 8   gashw     373 non-null    object \n",
            " 9   airco     373 non-null    object \n",
            " 10  garagepl  373 non-null    int64  \n",
            " 11  prefarea  373 non-null    object \n",
            "dtypes: float64(1), int64(5), object(6)\n",
            "memory usage: 37.9+ KB\n"
          ],
          "name": "stdout"
        }
      ]
    },
    {
      "cell_type": "markdown",
      "metadata": {
        "id": "531g1Gj7jVRp"
      },
      "source": [
        "**Do homes with air conditioning have a higher sales price than homes without air conditioning?**\n",
        "\n",
        "Before running the t-test, let's check whether the variable we are using\n",
        " **'price'** samples are normally distributed. We'll do that both visually and through descriptive statistics.\n",
        "\n",
        "Using matplotlib.pyplot we can plot histograms of each sample. By setting alpha = .5, the transparency of each histogram is reduced so we can more easily make out overlapping areas.\n",
        "\n"
      ]
    },
    {
      "cell_type": "code",
      "metadata": {
        "id": "QnQgWRkPjW-i",
        "colab": {
          "base_uri": "https://localhost:8080/",
          "height": 300
        },
        "outputId": "fd017450-557b-49c8-daff-88427ca464b6"
      },
      "source": [
        "plt.hist(ac_yes['price'], alpha = .5)\n",
        "plt.hist(ac_no['price'], alpha = .5)\n",
        "plt.show()\n",
        "\n",
        "print(stats.describe(ac_yes['price']))\n",
        "print(stats.describe(ac_no['price']))"
      ],
      "execution_count": null,
      "outputs": [
        {
          "output_type": "display_data",
          "data": {
            "image/png": "[encoded data removed]",
            "text/plain": [
              "<Figure size 432x288 with 1 Axes>"
            ]
          },
          "metadata": {
            "tags": [],
            "needs_background": "light"
          }
        },
        {
          "output_type": "stream",
          "text": [
            "DescribeResult(nobs=173, minmax=(31900.0, 190000.0), mean=85880.58959537573, variance=810167352.2317516, skewness=0.8558523643779228, kurtosis=0.9609338749117713)\n",
            "DescribeResult(nobs=373, minmax=(25000.0, 175000.0), mean=59884.85254691689, variance=455341800.98626363, skewness=1.4196100209360347, kurtosis=3.448225770991252)\n"
          ],
          "name": "stdout"
        }
      ]
    },
    {
      "cell_type": "markdown",
      "metadata": {
        "id": "yKoN8SBToAes"
      },
      "source": [
        "\n",
        "\n",
        "Kurtosis is a measure of the sharpness of a distribution’s peak. \n",
        "*The normal distribution has a kurtosis of 0*\n",
        "\n",
        "Skewness is the measure of a distribution’s asymmetry. A negatively skewed distribution is heavy on the left-side tail and vice versa. \n",
        "*The normal distribution has a skewness of 0*\n",
        "\n",
        "Kurtosis and skewness of houses with no aircond are TOO HIGH to continue "
      ]
    },
    {
      "cell_type": "markdown",
      "metadata": {
        "id": "O4dpEl_gwKQA"
      },
      "source": [
        "**Do homes with a full basement have a higher sales price than homes without a full basement?**"
      ]
    },
    {
      "cell_type": "code",
      "metadata": {
        "id": "ct6l5B5FoHVB",
        "colab": {
          "base_uri": "https://localhost:8080/",
          "height": 692
        },
        "outputId": "7f54b7e3-c27c-472f-e115-3df7e8aa71c7"
      },
      "source": [
        "# Split up our dataset to two indep. variables to answer first question on basement\n",
        "basement_yes = housing[(housing['fullbase'] == 'yes')]\n",
        "basement_yes.info()\n",
        "\n",
        "basement_no = housing[(housing['fullbase'] == 'no')]\n",
        "basement_no.info()"
      ],
      "execution_count": null,
      "outputs": [
        {
          "output_type": "stream",
          "text": [
            "<class 'pandas.core.frame.DataFrame'>\n",
            "Int64Index: 191 entries, 0 to 438\n",
            "Data columns (total 12 columns):\n",
            " #   Column    Non-Null Count  Dtype  \n",
            "---  ------    --------------  -----  \n",
            " 0   price     191 non-null    float64\n",
            " 1   lotsize   191 non-null    int64  \n",
            " 2   bedrooms  191 non-null    int64  \n",
            " 3   bathrms   191 non-null    int64  \n",
            " 4   stories   191 non-null    int64  \n",
            " 5   driveway  191 non-null    object \n",
            " 6   recroom   191 non-null    object \n",
            " 7   fullbase  191 non-null    object \n",
            " 8   gashw     191 non-null    object \n",
            " 9   airco     191 non-null    object \n",
            " 10  garagepl  191 non-null    int64  \n",
            " 11  prefarea  191 non-null    object \n",
            "dtypes: float64(1), int64(5), object(6)\n",
            "memory usage: 19.4+ KB\n",
            "<class 'pandas.core.frame.DataFrame'>\n",
            "Int64Index: 355 entries, 125 to 545\n",
            "Data columns (total 12 columns):\n",
            " #   Column    Non-Null Count  Dtype  \n",
            "---  ------    --------------  -----  \n",
            " 0   price     355 non-null    float64\n",
            " 1   lotsize   355 non-null    int64  \n",
            " 2   bedrooms  355 non-null    int64  \n",
            " 3   bathrms   355 non-null    int64  \n",
            " 4   stories   355 non-null    int64  \n",
            " 5   driveway  355 non-null    object \n",
            " 6   recroom   355 non-null    object \n",
            " 7   fullbase  355 non-null    object \n",
            " 8   gashw     355 non-null    object \n",
            " 9   airco     355 non-null    object \n",
            " 10  garagepl  355 non-null    int64  \n",
            " 11  prefarea  355 non-null    object \n",
            "dtypes: float64(1), int64(5), object(6)\n",
            "memory usage: 36.1+ KB\n"
          ],
          "name": "stdout"
        }
      ]
    },
    {
      "cell_type": "code",
      "metadata": {
        "id": "Emmil054wv8J",
        "colab": {
          "base_uri": "https://localhost:8080/",
          "height": 300
        },
        "outputId": "99eab169-1a64-4fe2-8151-b5a82bc5223d"
      },
      "source": [
        "plt.hist(basement_yes['price'], alpha = .5)\n",
        "plt.hist(basement_no['price'], alpha = .5)\n",
        "plt.show()\n",
        "\n",
        "print(stats.describe(basement_yes['price']))\n",
        "print(stats.describe(basement_no['price']))"
      ],
      "execution_count": null,
      "outputs": [
        {
          "output_type": "display_data",
          "data": {
            "image/png": "[encoded data removed]",
            "text/plain": [
              "<Figure size 432x288 with 1 Axes>"
            ]
          },
          "metadata": {
            "tags": [],
            "needs_background": "light"
          }
        },
        {
          "output_type": "stream",
          "text": [
            "DescribeResult(nobs=191, minmax=(26000.0, 175000.0), mean=74894.50261780104, variance=687483535.4092036, skewness=1.299439350765169, kurtosis=2.200944427832982)\n",
            "DescribeResult(nobs=355, minmax=(25000.0, 190000.0), mean=64477.58309859155, variance=690693014.1816344, skewness=1.2539001276811907, kurtosis=1.9898502593432044)\n"
          ],
          "name": "stdout"
        }
      ]
    },
    {
      "cell_type": "markdown",
      "metadata": {
        "id": "p21oVBw-xQS0"
      },
      "source": [
        "The variable 'fullbase' is more normally distributed than air conditoning. Let's proceed to the t-test.\n",
        "\n",
        "Since the data meets our assumptions, let's proceed this time to the t-test.\n",
        "\n",
        "In Python we will use ttest_ind() from scipy.stats\n",
        "\n",
        "Our two arguments will be the two arrays representing the price of houses with and without basements."
      ]
    },
    {
      "cell_type": "code",
      "metadata": {
        "id": "BfNSet1A0c0J",
        "colab": {
          "base_uri": "https://localhost:8080/",
          "height": 34
        },
        "outputId": "01746ec1-120c-4774-b082-e1a21144f4fa"
      },
      "source": [
        "\n",
        "stats.ttest_ind(basement_yes['price'], basement_no['price'])"
      ],
      "execution_count": null,
      "outputs": [
        {
          "output_type": "execute_result",
          "data": {
            "text/plain": [
              "Ttest_indResult(statistic=4.420628512286621, pvalue=1.1885626562866786e-05)"
            ]
          },
          "metadata": {
            "tags": []
          },
          "execution_count": 18
        }
      ]
    },
    {
      "cell_type": "markdown",
      "metadata": {
        "id": "UkO3K7ED1fZt"
      },
      "source": [
        "**We know we can reject the null from either of these results:**\n",
        "\n",
        "The test statistic is greater than 1.96\n",
        "\n",
        "The p-value is less than < .05 \n",
        "\n",
        "In fact, the p-value is way less than .05. Rather than reporting this tiny-yet-clunky number, it's common to \"round up\" the reports to a more readable < .01 or even < .001.\n",
        "\n",
        "Remember, the way to interpret this p-value is like this:\n",
        "\n",
        "\"There is a .001% chance of observing a difference as large as what is observed even if the two population means are identical (the null hypothesis is true).\""
      ]
    },
    {
      "cell_type": "markdown",
      "metadata": {
        "id": "hDPJj7Dg2Out"
      },
      "source": [
        "Next, let's compute the **confidence interval** "
      ]
    },
    {
      "cell_type": "code",
      "metadata": {
        "id": "TjjFAews2Y_c",
        "colab": {
          "base_uri": "https://localhost:8080/",
          "height": 35
        },
        "outputId": "e0c9c8e3-12b3-42cb-b389-6583ab7fec4e"
      },
      "source": [
        "def get_95_ci(array_1, array_2):\n",
        "    sample_1_n = array_1.shape[0]\n",
        "    sample_2_n = array_2.shape[0]\n",
        "    sample_1_mean = array_1.mean()\n",
        "    sample_2_mean = array_2.mean()\n",
        "    sample_1_var = array_1.var()\n",
        "    sample_2_var = array_2.var()\n",
        "    mean_difference = sample_2_mean - sample_1_mean\n",
        "    std_err_difference = math.sqrt((sample_1_var/sample_1_n)+(sample_2_var/sample_2_n))\n",
        "    margin_of_error = 1.96 * std_err_difference\n",
        "    ci_lower = mean_difference - margin_of_error\n",
        "    ci_upper = mean_difference + margin_of_error\n",
        "    return(\"The difference in means at the 95% confidence interval (two-tail) is between \"+str(ci_lower)+\" and \"+str(ci_upper)+\".\")\n",
        "\n",
        "get_95_ci(basement_yes['price'], basement_no['price'])"
      ],
      "execution_count": null,
      "outputs": [
        {
          "output_type": "execute_result",
          "data": {
            "application/vnd.google.colaboratory.intrinsic+json": {
              "type": "string"
            },
            "text/plain": [
              "'The difference in means at the 95% confidence interval (two-tail) is between -15032.294775656886 and -5801.544262762097.'"
            ]
          },
          "metadata": {
            "tags": []
          },
          "execution_count": 19
        }
      ]
    },
    {
      "cell_type": "markdown",
      "metadata": {
        "id": "0HXG9ULU3BB_"
      },
      "source": [
        "We can interpret this result as saying that with 95% confidence, houses without basement price average between $15032 and $5801 lower than houses with basements"
      ]
    },
    {
      "cell_type": "markdown",
      "metadata": {
        "id": "s2wCeUpR37Ni"
      },
      "source": [
        "A pointplot graphs the \"point\" estimate of a series of numbers along with their respective error bars to evalute visually for significant differences in means."
      ]
    },
    {
      "cell_type": "code",
      "metadata": {
        "id": "ob68lP1V4jAX",
        "colab": {
          "base_uri": "https://localhost:8080/",
          "height": 338
        },
        "outputId": "27674751-a9ab-4187-e42d-847d0eb4f76c"
      },
      "source": [
        "import seaborn as sns\n",
        "\n",
        "g = sns.pointplot(data=[basement_yes['price'],\n",
        "                        basement_no['price']], join=False)\n",
        "                        \n",
        "g.set(xticklabels = ['basement_yes', 'basement_no'])"
      ],
      "execution_count": null,
      "outputs": [
        {
          "output_type": "stream",
          "text": [
            "/usr/local/lib/python3.6/dist-packages/statsmodels/tools/_testing.py:19: FutureWarning: pandas.util.testing is deprecated. Use the functions in the public API at pandas.testing instead.\n",
            "  import pandas.util.testing as tm\n"
          ],
          "name": "stderr"
        },
        {
          "output_type": "execute_result",
          "data": {
            "text/plain": [
              "[[Text(0, 0, 'basement_yes'), Text(0, 0, 'basement_no')]]"
            ]
          },
          "metadata": {
            "tags": []
          },
          "execution_count": 20
        },
        {
          "output_type": "display_data",
          "data": {
            "image/png": "[encoded data removed]",
            "text/plain": [
              "<Figure size 432x288 with 1 Axes>"
            ]
          },
          "metadata": {
            "tags": [],
            "needs_background": "light"
          }
        }
      ]
    },
    {
      "cell_type": "markdown",
      "metadata": {
        "id": "Air-9yQD48WZ"
      },
      "source": [
        "Other considerations:\n",
        "\n",
        "What else could explain this difference in means? \n",
        "- homes could be bigger as well\n",
        "\n",
        "- pricier neigborhoods\n",
        "\n",
        "- recently renovated "
      ]
    }
  ]
}