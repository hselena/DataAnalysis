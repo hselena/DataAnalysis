{
  "nbformat": 4,
  "nbformat_minor": 0,
  "metadata": {
    "colab": {
      "name": "European social survey parametricsc.ipynb",
      "provenance": [],
      "collapsed_sections": []
    },
    "kernelspec": {
      "name": "python3",
      "display_name": "Python 3"
    }
  },
  "cells": [
    {
      "cell_type": "markdown",
      "metadata": {
        "id": "X9GQGYqRrahR"
      },
      "source": [
        " Performed A/B testing on Biannual survey to measure the attitudes, beliefs, and behavior patterns of the various populations in Europe from 2012-2014"
      ]
    },
    {
      "cell_type": "code",
      "metadata": {
        "id": "dOMKySfXsVA3",
        "colab": {
          "base_uri": "https://localhost:8080/",
          "height": 553
        },
        "outputId": "a91f6793-602c-4de7-a83e-453511d8adf4"
      },
      "source": [
        "#prepare for stat analysis and testing\n",
        "\n",
        "\n",
        "import pandas as pd\n",
        "import numpy as np\n",
        "import matplotlib.pyplot as plt\n",
        "import scipy.stats as stats\n",
        "%matplotlib inline\n",
        "\n",
        "survey  = pd.read_csv(\"https://tf-assets-prod.s3.amazonaws.com/tf-curric/data-science/ess_combined_2012_2014.csv\")\n",
        "               \n",
        "\n",
        "survey.info()\n",
        "survey.head()\n"
      ],
      "execution_count": null,
      "outputs": [
        {
          "output_type": "stream",
          "text": [
            "<class 'pandas.core.frame.DataFrame'>\n",
            "RangeIndex: 8147 entries, 0 to 8146\n",
            "Data columns (total 13 columns):\n",
            " #   Column   Non-Null Count  Dtype \n",
            "---  ------   --------------  ----- \n",
            " 0   cntry    8147 non-null   object\n",
            " 1   idno     8147 non-null   int64 \n",
            " 2   year     8147 non-null   int64 \n",
            " 3   tvtot    8147 non-null   int64 \n",
            " 4   ppltrst  8147 non-null   int64 \n",
            " 5   pplfair  8147 non-null   int64 \n",
            " 6   pplhlp   8147 non-null   int64 \n",
            " 7   happy    8147 non-null   int64 \n",
            " 8   sclmeet  8147 non-null   int64 \n",
            " 9   sclact   8147 non-null   int64 \n",
            " 10  gndr     8147 non-null   int64 \n",
            " 11  agea     8147 non-null   int64 \n",
            " 12  partner  8147 non-null   int64 \n",
            "dtypes: int64(12), object(1)\n",
            "memory usage: 827.6+ KB\n"
          ],
          "name": "stdout"
        },
        {
          "output_type": "execute_result",
          "data": {
            "text/html": [
              "<div>\n",
              "<style scoped>\n",
              "    .dataframe tbody tr th:only-of-type {\n",
              "        vertical-align: middle;\n",
              "    }\n",
              "\n",
              "    .dataframe tbody tr th {\n",
              "        vertical-align: top;\n",
              "    }\n",
              "\n",
              "    .dataframe thead th {\n",
              "        text-align: right;\n",
              "    }\n",
              "</style>\n",
              "<table border=\"1\" class=\"dataframe\">\n",
              "  <thead>\n",
              "    <tr style=\"text-align: right;\">\n",
              "      <th></th>\n",
              "      <th>cntry</th>\n",
              "      <th>idno</th>\n",
              "      <th>year</th>\n",
              "      <th>tvtot</th>\n",
              "      <th>ppltrst</th>\n",
              "      <th>pplfair</th>\n",
              "      <th>pplhlp</th>\n",
              "      <th>happy</th>\n",
              "      <th>sclmeet</th>\n",
              "      <th>sclact</th>\n",
              "      <th>gndr</th>\n",
              "      <th>agea</th>\n",
              "      <th>partner</th>\n",
              "    </tr>\n",
              "  </thead>\n",
              "  <tbody>\n",
              "    <tr>\n",
              "      <th>0</th>\n",
              "      <td>CH</td>\n",
              "      <td>5</td>\n",
              "      <td>6</td>\n",
              "      <td>3</td>\n",
              "      <td>3</td>\n",
              "      <td>10</td>\n",
              "      <td>5</td>\n",
              "      <td>8</td>\n",
              "      <td>5</td>\n",
              "      <td>4</td>\n",
              "      <td>2</td>\n",
              "      <td>60</td>\n",
              "      <td>1</td>\n",
              "    </tr>\n",
              "    <tr>\n",
              "      <th>1</th>\n",
              "      <td>CH</td>\n",
              "      <td>25</td>\n",
              "      <td>6</td>\n",
              "      <td>6</td>\n",
              "      <td>5</td>\n",
              "      <td>7</td>\n",
              "      <td>5</td>\n",
              "      <td>9</td>\n",
              "      <td>3</td>\n",
              "      <td>2</td>\n",
              "      <td>2</td>\n",
              "      <td>59</td>\n",
              "      <td>1</td>\n",
              "    </tr>\n",
              "    <tr>\n",
              "      <th>2</th>\n",
              "      <td>CH</td>\n",
              "      <td>26</td>\n",
              "      <td>6</td>\n",
              "      <td>1</td>\n",
              "      <td>8</td>\n",
              "      <td>8</td>\n",
              "      <td>8</td>\n",
              "      <td>7</td>\n",
              "      <td>6</td>\n",
              "      <td>3</td>\n",
              "      <td>1</td>\n",
              "      <td>24</td>\n",
              "      <td>2</td>\n",
              "    </tr>\n",
              "    <tr>\n",
              "      <th>3</th>\n",
              "      <td>CH</td>\n",
              "      <td>28</td>\n",
              "      <td>6</td>\n",
              "      <td>4</td>\n",
              "      <td>6</td>\n",
              "      <td>6</td>\n",
              "      <td>7</td>\n",
              "      <td>10</td>\n",
              "      <td>6</td>\n",
              "      <td>2</td>\n",
              "      <td>2</td>\n",
              "      <td>64</td>\n",
              "      <td>1</td>\n",
              "    </tr>\n",
              "    <tr>\n",
              "      <th>4</th>\n",
              "      <td>CH</td>\n",
              "      <td>29</td>\n",
              "      <td>6</td>\n",
              "      <td>5</td>\n",
              "      <td>6</td>\n",
              "      <td>7</td>\n",
              "      <td>5</td>\n",
              "      <td>8</td>\n",
              "      <td>7</td>\n",
              "      <td>2</td>\n",
              "      <td>2</td>\n",
              "      <td>55</td>\n",
              "      <td>1</td>\n",
              "    </tr>\n",
              "  </tbody>\n",
              "</table>\n",
              "</div>"
            ],
            "text/plain": [
              "  cntry  idno  year  tvtot  ppltrst  ...  sclmeet  sclact  gndr  agea  partner\n",
              "0    CH     5     6      3        3  ...        5       4     2    60        1\n",
              "1    CH    25     6      6        5  ...        3       2     2    59        1\n",
              "2    CH    26     6      1        8  ...        6       3     1    24        2\n",
              "3    CH    28     6      4        6  ...        6       2     2    64        1\n",
              "4    CH    29     6      5        6  ...        7       2     2    55        1\n",
              "\n",
              "[5 rows x 13 columns]"
            ]
          },
          "metadata": {
            "tags": []
          },
          "execution_count": 2
        }
      ]
    },
    {
      "cell_type": "markdown",
      "metadata": {
        "id": "tC5inDVnszhc"
      },
      "source": [
        "Did people become less trusting from 2012 to 2014?"
      ]
    },
    {
      "cell_type": "code",
      "metadata": {
        "id": "MJwvBCMhvqNt",
        "colab": {
          "base_uri": "https://localhost:8080/",
          "height": 301
        },
        "outputId": "8a6fcc9d-51c8-4849-c8d3-83061b57adc0"
      },
      "source": [
        "#creating sepaerate tables/Data Frame for easier analysis  \n",
        "\n",
        "survey12= survey[survey['year']==6]\n",
        "survey14= survey[survey['year']==7]\n",
        "\n",
        "print(survey12.head())\n",
        "print(survey14.head())"
      ],
      "execution_count": null,
      "outputs": [
        {
          "output_type": "stream",
          "text": [
            "  cntry  idno  year  tvtot  ppltrst  ...  sclmeet  sclact  gndr  agea  partner\n",
            "0    CH     5     6      3        3  ...        5       4     2    60        1\n",
            "1    CH    25     6      6        5  ...        3       2     2    59        1\n",
            "2    CH    26     6      1        8  ...        6       3     1    24        2\n",
            "3    CH    28     6      4        6  ...        6       2     2    64        1\n",
            "4    CH    29     6      5        6  ...        7       2     2    55        1\n",
            "\n",
            "[5 rows x 13 columns]\n",
            "    cntry  idno  year  tvtot  ppltrst  ...  sclmeet  sclact  gndr  agea  partner\n",
            "732    CH     5     7      2        8  ...        6       4     1    69        1\n",
            "733    CH    25     7      4        4  ...        5       3     1    30        1\n",
            "734    CH    26     7      3        8  ...        7       5     2    49        2\n",
            "735    CH    28     7      2        7  ...        6       2     1    51        1\n",
            "736    CH    29     7      2        4  ...        6       2     2    32        2\n",
            "\n",
            "[5 rows x 13 columns]\n"
          ],
          "name": "stdout"
        }
      ]
    },
    {
      "cell_type": "code",
      "metadata": {
        "id": "VQDqkEwI8huq",
        "colab": {
          "base_uri": "https://localhost:8080/",
          "height": 300
        },
        "outputId": "7d7e5644-ce0c-4cca-9954-9051c079ed61"
      },
      "source": [
        "plt.hist(survey12['ppltrst'], alpha = .5)\n",
        "plt.hist(survey14['ppltrst'], alpha = .5)\n",
        "\n",
        "# Remember that Shapiro test is sensitive to large samples. \n",
        "\n",
        "stats.shapiro(survey12['ppltrst'])\n",
        "stats.shapiro(survey14['ppltrst'])\n",
        "\n",
        "print(stats.describe(survey12['ppltrst']))\n",
        "print(stats.describe(survey14['ppltrst']))\n",
        "\n",
        "\n",
        "# This is normally distributed."
      ],
      "execution_count": null,
      "outputs": [
        {
          "output_type": "stream",
          "text": [
            "DescribeResult(nobs=4071, minmax=(0, 10), mean=5.578481945467944, variance=4.893040545067073, skewness=-0.5431086926347095, kurtosis=-0.1210956960964813)\n",
            "DescribeResult(nobs=4076, minmax=(0, 10), mean=5.5713935230618254, variance=4.927171652708959, skewness=-0.4601859476512641, kurtosis=-0.25006786100787215)\n"
          ],
          "name": "stdout"
        },
        {
          "output_type": "display_data",
          "data": {
            "image/png": "[encoded data removed]",
            "text/plain": [
              "<Figure size 432x288 with 1 Axes>"
            ]
          },
          "metadata": {
            "tags": [],
            "needs_background": "light"
          }
        }
      ]
    },
    {
      "cell_type": "code",
      "metadata": {
        "id": "kV6-eJWO9JmZ",
        "colab": {
          "base_uri": "https://localhost:8080/",
          "height": 34
        },
        "outputId": "e61565b8-9259-47bd-b5ce-1d07951254e4"
      },
      "source": [
        "stats.ttest_ind(survey12['ppltrst'], survey14['ppltrst'])"
      ],
      "execution_count": null,
      "outputs": [
        {
          "output_type": "execute_result",
          "data": {
            "text/plain": [
              "Ttest_indResult(statistic=0.1443685081969842, pvalue=0.8852130548889106)"
            ]
          },
          "metadata": {
            "tags": []
          },
          "execution_count": 9
        }
      ]
    },
    {
      "cell_type": "markdown",
      "metadata": {
        "id": "rPio35yX938a"
      },
      "source": [
        "**Fail to reject the null **\n",
        "\n",
        "\n",
        "\n",
        "-- there is no significant difference in trust between 2012 to 2014."
      ]
    },
    {
      "cell_type": "markdown",
      "metadata": {
        "id": "zi9ujjsH9adf"
      },
      "source": [
        "2.Did people become happier from 2012 to 2014?"
      ]
    },
    {
      "cell_type": "code",
      "metadata": {
        "id": "XtH8Ry1m0fVA",
        "colab": {
          "base_uri": "https://localhost:8080/",
          "height": 300
        },
        "outputId": "48de77f3-aaae-4e37-fab2-11e78393fa17"
      },
      "source": [
        "#we will plot the happy variable and plot hisotgram to view normality \n",
        "\n",
        "plt.hist(survey12['happy'], alpha = .5)\n",
        "plt.hist(survey14['happy'], alpha = .5)\n",
        "\n",
        "#view stats \n",
        "print(stats.describe(survey12['happy']))\n",
        "print(stats.describe(survey14['happy']))\n",
        "\n"
      ],
      "execution_count": null,
      "outputs": [
        {
          "output_type": "stream",
          "text": [
            "DescribeResult(nobs=4071, minmax=(0, 10), mean=7.731515598133137, variance=3.0819524689826823, skewness=-1.1505518232802756, kurtosis=1.9055890346061979)\n",
            "DescribeResult(nobs=4076, minmax=(0, 10), mean=7.6854759568204125, variance=2.840436853164115, skewness=-1.0296465664009635, kurtosis=1.5218046596567287)\n"
          ],
          "name": "stdout"
        },
        {
          "output_type": "display_data",
          "data": {
            "image/png": "[encoded data removed]",
            "text/plain": [
              "<Figure size 432x288 with 1 Axes>"
            ]
          },
          "metadata": {
            "tags": [],
            "needs_background": "light"
          }
        }
      ]
    },
    {
      "cell_type": "code",
      "metadata": {
        "id": "rExYDR8M5J8k",
        "colab": {
          "base_uri": "https://localhost:8080/",
          "height": 34
        },
        "outputId": "3e414157-7097-4096-9dbc-a2e21a15e5ec"
      },
      "source": [
        "#histogram displays data is not normally distributed \n",
        "#so we will use Kruskal-Wallis\n",
        "\n",
        "stats.kruskal(\n",
        "    survey12['happy'], \n",
        "    survey14['happy']\n",
        ")"
      ],
      "execution_count": null,
      "outputs": [
        {
          "output_type": "execute_result",
          "data": {
            "text/plain": [
              "KruskalResult(statistic=3.725441202182227, pvalue=0.05358946830655459)"
            ]
          },
          "metadata": {
            "tags": []
          },
          "execution_count": 7
        }
      ]
    },
    {
      "cell_type": "markdown",
      "metadata": {
        "id": "ZeI2Ibg767M9"
      },
      "source": [
        "p value right in threshold \n",
        "- We fail to reject the null, no significant difference \n",
        "\n",
        "Based on visualization We can conclude data sample are drawn from the same distribution "
      ]
    },
    {
      "cell_type": "markdown",
      "metadata": {
        "id": "auHE8YV1CV7C"
      },
      "source": [
        "3. Pick three or four of the countries in the sample and compare how often people met socially in 2014. Are there differences, and if so, which countries stand out?"
      ]
    },
    {
      "cell_type": "code",
      "metadata": {
        "id": "gp-6YH9TC_TN",
        "colab": {
          "base_uri": "https://localhost:8080/",
          "height": 34
        },
        "outputId": "2baa62a4-9327-4138-ce3b-89fc19876135"
      },
      "source": [
        "survey14['cntry'].unique()"
      ],
      "execution_count": null,
      "outputs": [
        {
          "output_type": "execute_result",
          "data": {
            "text/plain": [
              "array(['CH', 'CZ', 'DE', 'ES', 'NO', 'SE'], dtype=object)"
            ]
          },
          "metadata": {
            "tags": []
          },
          "execution_count": 10
        }
      ]
    },
    {
      "cell_type": "code",
      "metadata": {
        "id": "iIl99xIGKfRK",
        "colab": {
          "base_uri": "https://localhost:8080/",
          "height": 364
        },
        "outputId": "672ddbd3-0cf1-45dc-f3c0-7c9092d913c3"
      },
      "source": [
        "# I am going to pick CZ, DE and ES\n",
        "\n",
        "filter_list = ['CZ', 'DE', 'ES']\n",
        "survey12h = survey14[survey14['cntry'].isin(filter_list)]\n",
        "\n",
        "survey12h['cntry'].unique()\n",
        "\n",
        "survey12h['sclmeet'].hist(by = survey12h['cntry'])\n"
      ],
      "execution_count": null,
      "outputs": [
        {
          "output_type": "execute_result",
          "data": {
            "text/plain": [
              "array([[<matplotlib.axes._subplots.AxesSubplot object at 0x7f92c04c9da0>,\n",
              "        <matplotlib.axes._subplots.AxesSubplot object at 0x7f92c04fdfd0>],\n",
              "       [<matplotlib.axes._subplots.AxesSubplot object at 0x7f92c04b62b0>,\n",
              "        <matplotlib.axes._subplots.AxesSubplot object at 0x7f92c0467518>]],\n",
              "      dtype=object)"
            ]
          },
          "metadata": {
            "tags": []
          },
          "execution_count": 12
        },
        {
          "output_type": "display_data",
          "data": {
            "image/png": "[encoded data removed]",
            "text/plain": [
              "<Figure size 432x288 with 4 Axes>"
            ]
          },
          "metadata": {
            "tags": [],
            "needs_background": "light"
          }
        }
      ]
    }
  ]
}
